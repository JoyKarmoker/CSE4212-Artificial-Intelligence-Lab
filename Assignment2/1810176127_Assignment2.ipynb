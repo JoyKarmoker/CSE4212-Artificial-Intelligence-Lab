{
  "nbformat": 4,
  "nbformat_minor": 0,
  "metadata": {
    "colab": {
      "provenance": []
    },
    "kernelspec": {
      "name": "python3",
      "display_name": "Python 3"
    },
    "language_info": {
      "name": "python"
    }
  },
  "cells": [
    {
      "cell_type": "markdown",
      "source": [
        "# Importing Necessary Modules"
      ],
      "metadata": {
        "id": "FfANMGspibNC"
      }
    },
    {
      "cell_type": "code",
      "execution_count": null,
      "metadata": {
        "id": "8peo3F3PhaZT"
      },
      "outputs": [],
      "source": [
        "from tensorflow import keras\n",
        "from tensorflow.keras.models import Model\n",
        "from tensorflow.keras.layers import Dense, Input, Conv2D, Flatten, MaxPooling2D, AveragePooling2D\n",
        "from tensorflow.keras.applications import vgg16"
      ]
    },
    {
      "cell_type": "markdown",
      "source": [
        "# Showing Vgg16 architecture"
      ],
      "metadata": {
        "id": "dTiW76cziovw"
      }
    },
    {
      "cell_type": "code",
      "source": [
        "vgg16_original_model = vgg16.VGG16()\n",
        "vgg16_original_model.summary()\n"
      ],
      "metadata": {
        "colab": {
          "base_uri": "https://localhost:8080/"
        },
        "id": "f0-3R21aisSc",
        "outputId": "088f397b-4d3e-495b-a794-cc000f14be01"
      },
      "execution_count": null,
      "outputs": [
        {
          "output_type": "stream",
          "name": "stdout",
          "text": [
            "Model: \"vgg16\"\n",
            "_________________________________________________________________\n",
            " Layer (type)                Output Shape              Param #   \n",
            "=================================================================\n",
            " input_2 (InputLayer)        [(None, 224, 224, 3)]     0         \n",
            "                                                                 \n",
            " block1_conv1 (Conv2D)       (None, 224, 224, 64)      1792      \n",
            "                                                                 \n",
            " block1_conv2 (Conv2D)       (None, 224, 224, 64)      36928     \n",
            "                                                                 \n",
            " block1_pool (MaxPooling2D)  (None, 112, 112, 64)      0         \n",
            "                                                                 \n",
            " block2_conv1 (Conv2D)       (None, 112, 112, 128)     73856     \n",
            "                                                                 \n",
            " block2_conv2 (Conv2D)       (None, 112, 112, 128)     147584    \n",
            "                                                                 \n",
            " block2_pool (MaxPooling2D)  (None, 56, 56, 128)       0         \n",
            "                                                                 \n",
            " block3_conv1 (Conv2D)       (None, 56, 56, 256)       295168    \n",
            "                                                                 \n",
            " block3_conv2 (Conv2D)       (None, 56, 56, 256)       590080    \n",
            "                                                                 \n",
            " block3_conv3 (Conv2D)       (None, 56, 56, 256)       590080    \n",
            "                                                                 \n",
            " block3_pool (MaxPooling2D)  (None, 28, 28, 256)       0         \n",
            "                                                                 \n",
            " block4_conv1 (Conv2D)       (None, 28, 28, 512)       1180160   \n",
            "                                                                 \n",
            " block4_conv2 (Conv2D)       (None, 28, 28, 512)       2359808   \n",
            "                                                                 \n",
            " block4_conv3 (Conv2D)       (None, 28, 28, 512)       2359808   \n",
            "                                                                 \n",
            " block4_pool (MaxPooling2D)  (None, 14, 14, 512)       0         \n",
            "                                                                 \n",
            " block5_conv1 (Conv2D)       (None, 14, 14, 512)       2359808   \n",
            "                                                                 \n",
            " block5_conv2 (Conv2D)       (None, 14, 14, 512)       2359808   \n",
            "                                                                 \n",
            " block5_conv3 (Conv2D)       (None, 14, 14, 512)       2359808   \n",
            "                                                                 \n",
            " block5_pool (MaxPooling2D)  (None, 7, 7, 512)         0         \n",
            "                                                                 \n",
            " flatten (Flatten)           (None, 25088)             0         \n",
            "                                                                 \n",
            " fc1 (Dense)                 (None, 4096)              102764544 \n",
            "                                                                 \n",
            " fc2 (Dense)                 (None, 4096)              16781312  \n",
            "                                                                 \n",
            " predictions (Dense)         (None, 1000)              4097000   \n",
            "                                                                 \n",
            "=================================================================\n",
            "Total params: 138357544 (527.79 MB)\n",
            "Trainable params: 138357544 (527.79 MB)\n",
            "Non-trainable params: 0 (0.00 Byte)\n",
            "_________________________________________________________________\n"
          ]
        }
      ]
    },
    {
      "cell_type": "markdown",
      "source": [
        "# Copying vgg16 architecture"
      ],
      "metadata": {
        "id": "8szGJebyi6_c"
      }
    },
    {
      "cell_type": "code",
      "source": [
        "#input Layer\n",
        "inputs = Input((224,224, 3), name='input')\n",
        "\n",
        "#Block1\n",
        "x  = Conv2D(filters=64, kernel_size=(3,3), name='block1_conv1', padding='same', activation='relu')(inputs)\n",
        "x  = Conv2D(filters=64, kernel_size=(3,3), name='block1_conv2', padding='same', activation='relu')(x)\n",
        "x = MaxPooling2D(name = 'block1_pool')(x)\n",
        "\n",
        "#Block2\n",
        "x  = Conv2D(filters=128, kernel_size=(3,3), name='block2_conv1', padding='same', activation='relu')(x)\n",
        "x  = Conv2D(filters=128, kernel_size=(3,3), name='block2_conv2', padding='same', activation='relu')(x)\n",
        "x = MaxPooling2D(name = 'block2_pool')(x)\n",
        "\n",
        "\n",
        "#Block3\n",
        "x  = Conv2D(filters=256, kernel_size=(3,3), name='block3_conv1', padding='same', activation='relu')(x)\n",
        "x  = Conv2D(filters=256, kernel_size=(3,3), name='block3_conv2', padding='same', activation='relu')(x)\n",
        "x  = Conv2D(filters=256, kernel_size=(3,3), name='block3_conv3', padding='same', activation='relu')(x)\n",
        "x = MaxPooling2D(name = 'block3_pool')(x)\n",
        "\n",
        "\n",
        "#Block4\n",
        "x  = Conv2D(filters=512, kernel_size=(3,3), name='block4_conv1', padding='same', activation='relu')(x)\n",
        "x  = Conv2D(filters=512, kernel_size=(3,3), name='block4_conv2', padding='same', activation='relu')(x)\n",
        "x  = Conv2D(filters=512, kernel_size=(3,3), name='block4_conv3', padding='same', activation='relu')(x)\n",
        "x = MaxPooling2D(name = 'block4_pool')(x)\n",
        "\n",
        "\n",
        "#Block5\n",
        "x  = Conv2D(filters=512, kernel_size=(3,3), name='block5_conv1', padding='same', activation='relu')(x)\n",
        "x  = Conv2D(filters=512, kernel_size=(3,3), name='block5_conv2', padding='same', activation='relu')(x)\n",
        "x  = Conv2D(filters=512, kernel_size=(3,3), name='block5_conv3', padding='same', activation='relu')(x)\n",
        "x = MaxPooling2D(name = 'block5_pool')(x)\n",
        "\n",
        "\n",
        "x = Flatten()(x)\n",
        "#Dense\n",
        "x = Dense(4096, name='fc1', activation='relu')(x)\n",
        "x = Dense(4096, name='fc2', activation='relu')(x)\n",
        "\n",
        "outputs = Dense(1000, activation = 'sigmoid', name='predictions')(x)\n",
        "vgg_copy = Model(inputs, outputs, name='vgg16_copy')\n",
        "vgg_copy.summary()"
      ],
      "metadata": {
        "colab": {
          "base_uri": "https://localhost:8080/"
        },
        "id": "0zpiRE_4i6ZE",
        "outputId": "1da282b7-07fe-4029-ff42-fb5a4f9ac2fc"
      },
      "execution_count": null,
      "outputs": [
        {
          "output_type": "stream",
          "name": "stdout",
          "text": [
            "Model: \"vgg16_copy\"\n",
            "_________________________________________________________________\n",
            " Layer (type)                Output Shape              Param #   \n",
            "=================================================================\n",
            " input (InputLayer)          [(None, 224, 224, 3)]     0         \n",
            "                                                                 \n",
            " block1_conv1 (Conv2D)       (None, 224, 224, 64)      1792      \n",
            "                                                                 \n",
            " block1_conv2 (Conv2D)       (None, 224, 224, 64)      36928     \n",
            "                                                                 \n",
            " block1_pool (MaxPooling2D)  (None, 112, 112, 64)      0         \n",
            "                                                                 \n",
            " block2_conv1 (Conv2D)       (None, 112, 112, 128)     73856     \n",
            "                                                                 \n",
            " block2_conv2 (Conv2D)       (None, 112, 112, 128)     147584    \n",
            "                                                                 \n",
            " block2_pool (MaxPooling2D)  (None, 56, 56, 128)       0         \n",
            "                                                                 \n",
            " block3_conv1 (Conv2D)       (None, 56, 56, 256)       295168    \n",
            "                                                                 \n",
            " block3_conv2 (Conv2D)       (None, 56, 56, 256)       590080    \n",
            "                                                                 \n",
            " block3_conv3 (Conv2D)       (None, 56, 56, 256)       590080    \n",
            "                                                                 \n",
            " block3_pool (MaxPooling2D)  (None, 28, 28, 256)       0         \n",
            "                                                                 \n",
            " block4_conv1 (Conv2D)       (None, 28, 28, 512)       1180160   \n",
            "                                                                 \n",
            " block4_conv2 (Conv2D)       (None, 28, 28, 512)       2359808   \n",
            "                                                                 \n",
            " block4_conv3 (Conv2D)       (None, 28, 28, 512)       2359808   \n",
            "                                                                 \n",
            " block4_pool (MaxPooling2D)  (None, 14, 14, 512)       0         \n",
            "                                                                 \n",
            " block5_conv1 (Conv2D)       (None, 14, 14, 512)       2359808   \n",
            "                                                                 \n",
            " block5_conv2 (Conv2D)       (None, 14, 14, 512)       2359808   \n",
            "                                                                 \n",
            " block5_conv3 (Conv2D)       (None, 14, 14, 512)       2359808   \n",
            "                                                                 \n",
            " block5_pool (MaxPooling2D)  (None, 7, 7, 512)         0         \n",
            "                                                                 \n",
            " flatten_12 (Flatten)        (None, 25088)             0         \n",
            "                                                                 \n",
            " fc1 (Dense)                 (None, 4096)              102764544 \n",
            "                                                                 \n",
            " fc2 (Dense)                 (None, 4096)              16781312  \n",
            "                                                                 \n",
            " predictions (Dense)         (None, 1000)              4097000   \n",
            "                                                                 \n",
            "=================================================================\n",
            "Total params: 138357544 (527.79 MB)\n",
            "Trainable params: 138357544 (527.79 MB)\n",
            "Non-trainable params: 0 (0.00 Byte)\n",
            "_________________________________________________________________\n"
          ]
        }
      ]
    },
    {
      "cell_type": "markdown",
      "source": [
        "# Transfer weights of pre-trained VGG16 to the newly built VGG16"
      ],
      "metadata": {
        "id": "JzTfmGiYnpe4"
      }
    },
    {
      "cell_type": "code",
      "source": [
        "for i in range(len(vgg_copy.layers)):\n",
        "    vgg_copy.layers[i].set_weights(vgg16_original_model.layers[i].get_weights())"
      ],
      "metadata": {
        "id": "d1P4G51WntXn"
      },
      "execution_count": null,
      "outputs": []
    },
    {
      "cell_type": "markdown",
      "source": [
        "# A CNN which will look like VGG16, but will not be exactly VGG16"
      ],
      "metadata": {
        "id": "Oko_-DyG1Ksd"
      }
    },
    {
      "cell_type": "code",
      "source": [
        "# Input layer with a different shape\n",
        "inputs_custom = Input((128, 128, 3), name='input_custom')\n",
        "\n",
        "# Block 1 with a different number of convolution layers\n",
        "x_custom = Conv2D(32, (3, 3), activation='relu', padding='same', name='block1_conv1_custom')(inputs_custom)\n",
        "x_custom = Conv2D(32, (3, 3), activation='relu', padding='same', name='block1_conv2_custom')(x_custom)\n",
        "x_custom = MaxPooling2D((2, 2), name='block1_pool_custom')(x_custom)\n",
        "\n",
        "# Block 2 with a different number of neurons in dense layers\n",
        "x_custom = Conv2D(64, (3, 3), activation='relu', padding='same', name='block2_conv1_custom')(x_custom)\n",
        "x_custom = Conv2D(64, (3, 3), activation='relu', padding='same', name='block2_conv2_custom')(x_custom)\n",
        "x_custom = MaxPooling2D((2, 2), name='block2_pool_custom')(x_custom)\n",
        "\n",
        "# Block 3 with a different down-sampling technique (AveragePooling2D)\n",
        "x_custom = Conv2D(128, (3, 3), activation='relu', padding='same', name='block3_conv1_custom')(x_custom)\n",
        "x_custom = Conv2D(128, (3, 3), activation='relu', padding='same', name='block3_conv2_custom')(x_custom)\n",
        "x_custom = Conv2D(128, (3, 3), activation='relu', padding='same', name='block3_conv3_custom')(x_custom)\n",
        "x_custom = AveragePooling2D((2, 2), name='block3_avg_pool_custom')(x_custom)\n",
        "\n",
        "# Flatten and different number of dense layers\n",
        "x_custom = Flatten(name='flatten_custom')(x_custom)\n",
        "x_custom = Dense(512, activation='relu', name='fc1_custom')(x_custom)\n",
        "x_custom = Dense(256, activation='relu', name='fc2_custom')(x_custom)\n",
        "\n",
        "# Different output shape and activation function\n",
        "outputs_custom = Dense(10, activation='softmax', name='predictions_custom')(x_custom)\n",
        "\n",
        "# Custom CNN model\n",
        "custom_cnn = Model(inputs_custom, outputs_custom, name='custom_cnn')\n",
        "custom_cnn.summary()\n"
      ],
      "metadata": {
        "colab": {
          "base_uri": "https://localhost:8080/"
        },
        "id": "MnW5giYB1Bfl",
        "outputId": "841188be-f383-49e8-9102-056b515fe97e"
      },
      "execution_count": null,
      "outputs": [
        {
          "output_type": "stream",
          "name": "stdout",
          "text": [
            "Model: \"custom_cnn\"\n",
            "_________________________________________________________________\n",
            " Layer (type)                Output Shape              Param #   \n",
            "=================================================================\n",
            " input_custom (InputLayer)   [(None, 128, 128, 3)]     0         \n",
            "                                                                 \n",
            " block1_conv1_custom (Conv2  (None, 128, 128, 32)      896       \n",
            " D)                                                              \n",
            "                                                                 \n",
            " block1_conv2_custom (Conv2  (None, 128, 128, 32)      9248      \n",
            " D)                                                              \n",
            "                                                                 \n",
            " block1_pool_custom (MaxPoo  (None, 64, 64, 32)        0         \n",
            " ling2D)                                                         \n",
            "                                                                 \n",
            " block2_conv1_custom (Conv2  (None, 64, 64, 64)        18496     \n",
            " D)                                                              \n",
            "                                                                 \n",
            " block2_conv2_custom (Conv2  (None, 64, 64, 64)        36928     \n",
            " D)                                                              \n",
            "                                                                 \n",
            " block2_pool_custom (MaxPoo  (None, 32, 32, 64)        0         \n",
            " ling2D)                                                         \n",
            "                                                                 \n",
            " block3_conv1_custom (Conv2  (None, 32, 32, 128)       73856     \n",
            " D)                                                              \n",
            "                                                                 \n",
            " block3_conv2_custom (Conv2  (None, 32, 32, 128)       147584    \n",
            " D)                                                              \n",
            "                                                                 \n",
            " block3_conv3_custom (Conv2  (None, 32, 32, 128)       147584    \n",
            " D)                                                              \n",
            "                                                                 \n",
            " block3_avg_pool_custom (Av  (None, 16, 16, 128)       0         \n",
            " eragePooling2D)                                                 \n",
            "                                                                 \n",
            " flatten_custom (Flatten)    (None, 32768)             0         \n",
            "                                                                 \n",
            " fc1_custom (Dense)          (None, 512)               16777728  \n",
            "                                                                 \n",
            " fc2_custom (Dense)          (None, 256)               131328    \n",
            "                                                                 \n",
            " predictions_custom (Dense)  (None, 10)                2570      \n",
            "                                                                 \n",
            "=================================================================\n",
            "Total params: 17346218 (66.17 MB)\n",
            "Trainable params: 17346218 (66.17 MB)\n",
            "Non-trainable params: 0 (0.00 Byte)\n",
            "_________________________________________________________________\n"
          ]
        }
      ]
    }
  ]
}